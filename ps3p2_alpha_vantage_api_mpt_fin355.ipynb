{
 "cells": [
  {
   "cell_type": "markdown",
   "metadata": {},
   "source": [
    "## Problem Set 3 (Part 2 of 2): Interacting with the Alpha Vantage API using Python libraries"
   ]
  },
  {
   "cell_type": "markdown",
   "metadata": {},
   "source": [
    "In Part 2 of Problem Set 3 we will be using the data retrived from the Alpha Vantage API and creating an optimized portfolio of stocks based on Modern Portfolio Theory. The PyPortfolioOpt package will be used to optimize a portfolio of stocks based maximizing the Sharpe Ratio. This exercise is an example of how a robo-advisor would use data APIs to continuously monitor and adjusts stock portfolios. \n",
    "\n",
    "This part of the exercise demonstrates:\n",
    "\n",
    "1. Setting up a programming environment to work with APIs\n",
    "2. Data preprocessing to create compatible datasets\n",
    "3. Using a quantititive popular portfolio optimization library to estimate risks and weights\n",
    "\n",
    "Documentation links:\n",
    "<br />Alpha Vantage: https://www.alphavantage.co/documentation/\n",
    "<br />Alpha Vantage Python library: https://alpha-vantage.readthedocs.io/en/latest/#\n",
    "<br />Pandas DataFrame: https://pandas.pydata.org/pandas-docs/stable/reference/frame.html\n",
    "<br />PyPortfolioOpt: https://pyportfolioopt.readthedocs.io/en/latest/index.html"
   ]
  },
  {
   "cell_type": "code",
   "execution_count": 1,
   "metadata": {},
   "outputs": [],
   "source": [
    "api_key = \"ASYSEVY520YGL1VX\""
   ]
  },
  {
   "cell_type": "code",
   "execution_count": 2,
   "metadata": {},
   "outputs": [],
   "source": [
    "import pandas as pd\n",
    "import requests\n",
    "from alpha_vantage.timeseries import TimeSeries\n",
    "import matplotlib.pyplot as plt\n",
    "\n",
    "# PyPortfolioOpt libraries\n",
    "from pypfopt.efficient_frontier import EfficientFrontier\n",
    "from pypfopt import risk_models\n",
    "from pypfopt import expected_returns\n",
    "from pypfopt.discrete_allocation import DiscreteAllocation, get_latest_prices"
   ]
  },
  {
   "cell_type": "code",
   "execution_count": 3,
   "metadata": {},
   "outputs": [],
   "source": [
    "ts = TimeSeries(key=api_key,output_format='pandas')"
   ]
  },
  {
   "cell_type": "code",
   "execution_count": 4,
   "metadata": {},
   "outputs": [],
   "source": [
    "fb_data, fb_meta_data = ts.get_daily(symbol='FB', outputsize='full')\n",
    "msft_data, msft_meta_data = ts.get_daily(symbol='MSFT', outputsize='full')\n",
    "aapl_data, aapl_meta_data = ts.get_daily(symbol='AAPL', outputsize='full')\n",
    "amzn_data, amzn_meta_data = ts.get_daily(symbol='AMZN', outputsize='full')"
   ]
  },
  {
   "cell_type": "code",
   "execution_count": 5,
   "metadata": {},
   "outputs": [
    {
     "name": "stdout",
     "output_type": "stream",
     "text": [
      "             1. open   2. high   3. low  4. close    5. volume\n",
      "date                                                          \n",
      "2012-05-18   42.0500   45.0000   38.000    38.232  573576400.0\n",
      "2012-05-21   36.5300   36.6600   33.000    34.030  168192700.0\n",
      "2012-05-22   32.6100   33.5900   30.940    31.000  101786600.0\n",
      "2012-05-23   31.3700   32.5000   31.360    32.000   73600000.0\n",
      "2012-05-24   32.9500   33.2100   31.770    33.030   50237200.0\n",
      "2012-05-25   32.9000   32.9500   31.110    31.910   37149800.0\n",
      "2012-05-29   31.4800   31.6900   28.650    28.840   78063400.0\n",
      "2012-05-30   28.6937   29.5500   27.860    28.190   57267900.0\n",
      "2012-05-31   28.5450   29.6700   26.830    29.600  111639200.0\n",
      "2012-06-01   28.8920   29.1530   27.390    27.720   41855500.0\n",
      "2012-06-04   27.2000   27.6500   26.440    26.900   35230300.0\n",
      "2012-06-05   26.7000   27.7584   25.750    25.869   42473400.0\n",
      "2012-06-06   26.0700   27.1700   25.520    26.810   61489200.0\n",
      "2012-06-07   27.0000   27.3500   26.150    26.310   26159500.0\n",
      "2012-06-08   26.5500   27.7600   26.440    27.100   38034000.0\n",
      "2012-06-11   27.1800   28.0700   26.835    27.005   28219600.0\n",
      "2012-06-12   27.4800   27.7700   26.960    27.400   15816800.0\n",
      "2012-06-13   27.6600   28.1000   27.100    27.270   17102800.0\n",
      "2012-06-14   27.6500   28.3200   27.380    28.290   16855000.0\n",
      "2012-06-15   28.5050   30.1000   28.350    30.014   43563800.0\n",
      "2012-06-18   29.9550   32.0800   29.410    31.410   42978900.0\n",
      "2012-06-19   31.5350   32.1800   30.700    31.911   30849000.0\n",
      "2012-06-20   31.9200   31.9309   31.150    31.600   15553600.0\n",
      "2012-06-21   31.6700   32.5000   31.510    31.840   21875300.0\n",
      "2012-06-22   32.4100   33.4500   32.060    33.050   74834000.0\n",
      "2012-06-25   32.8600   33.0200   31.550    32.060   24352900.0\n",
      "2012-06-26   32.6900   33.4400   32.500    33.100   24858700.0\n",
      "2012-06-27   32.4600   32.9000   31.900    32.230   28568000.0\n",
      "2012-06-28   31.9600   32.1900   30.900    31.360   17713300.0\n",
      "2012-06-29   31.9200   31.9900   30.760    31.095   19526900.0\n",
      "...              ...       ...      ...       ...          ...\n",
      "2019-08-14  185.8000  185.9900  179.310   179.710   18903700.0\n",
      "2019-08-15  180.9619  183.2000  180.030   182.590   12925900.0\n",
      "2019-08-16  183.7500  185.1000  182.360   183.700   12654600.0\n",
      "2019-08-19  186.0100  187.5000  184.850   186.170    9691200.0\n",
      "2019-08-20  185.4500  186.0000  182.390   183.810   10083400.0\n",
      "2019-08-21  185.0000  185.9000  183.140   183.550    8398200.0\n",
      "2019-08-22  183.4300  184.1100  179.910   182.040   10821400.0\n",
      "2019-08-23  180.8400  183.1300  176.660   177.750   17323400.0\n",
      "2019-08-26  179.4000  180.5000  178.240   180.360    8773600.0\n",
      "2019-08-27  181.9300  184.0400  181.010   181.300   14399600.0\n",
      "2019-08-28  180.5300  181.9500  178.920   181.760    9386100.0\n",
      "2019-08-29  183.7700  186.0800  183.470   185.570   10128700.0\n",
      "2019-08-30  186.7800  186.8000  183.460   185.670   10774500.0\n",
      "2019-09-03  184.0000  185.6700  182.110   182.390    9779400.0\n",
      "2019-09-04  184.6500  187.7500  183.890   187.140   11308000.0\n",
      "2019-09-05  188.5300  191.3600  187.940   190.900   13876700.0\n",
      "2019-09-06  190.2100  190.2100  186.350   187.490   15226800.0\n",
      "2019-09-09  187.7300  188.9800  185.850   188.760   14722400.0\n",
      "2019-09-10  187.4400  188.1000  184.550   186.170   15455900.0\n",
      "2019-09-11  186.4600  189.4400  186.080   188.490   11761700.0\n",
      "2019-09-12  189.8600  190.9300  187.230   187.470   11419800.0\n",
      "2019-09-13  187.3300  187.9700  186.540   187.190   11441100.0\n",
      "2019-09-16  186.9300  187.7900  185.770   186.220    8444800.0\n",
      "2019-09-17  186.6600  188.3200  185.540   188.080    9671100.0\n",
      "2019-09-18  188.0900  189.0800  186.010   188.140    9681900.0\n",
      "2019-09-19  188.6600  191.1000  188.150   190.140   10392700.0\n",
      "2019-09-20  190.6600  193.1000  188.120   189.930   19934200.0\n",
      "2019-09-23  189.3400  190.1000  185.210   186.820   13327600.0\n",
      "2019-09-24  187.9800  188.0374  180.390   181.280   15753694.0\n",
      "2019-09-25  181.4500  183.4200  177.870   182.800   10604711.0\n",
      "\n",
      "[1850 rows x 5 columns]\n"
     ]
    }
   ],
   "source": [
    "print (fb_data)"
   ]
  },
  {
   "cell_type": "markdown",
   "metadata": {},
   "source": [
    "Isolate \"close\" column of data for each security:"
   ]
  },
  {
   "cell_type": "code",
   "execution_count": 6,
   "metadata": {
    "scrolled": true
   },
   "outputs": [],
   "source": [
    "fb_clean = fb_data['4. close']\n",
    "msft_clean = msft_data['4. close']\n",
    "aapl_clean = aapl_data['4. close']\n",
    "amzn_clean = amzn_data['4. close']"
   ]
  },
  {
   "cell_type": "markdown",
   "metadata": {},
   "source": [
    "Create new dataframe with tickers as columns:"
   ]
  },
  {
   "cell_type": "code",
   "execution_count": 7,
   "metadata": {},
   "outputs": [],
   "source": [
    "df = pd.DataFrame(columns=['fb', 'msft', 'aapl', 'amzn'])"
   ]
  },
  {
   "cell_type": "markdown",
   "metadata": {},
   "source": [
    "Place data into new dataframe:"
   ]
  },
  {
   "cell_type": "code",
   "execution_count": 9,
   "metadata": {
    "scrolled": true
   },
   "outputs": [
    {
     "name": "stdout",
     "output_type": "stream",
     "text": [
      "                 fb     msft     aapl      amzn\n",
      "date                                           \n",
      "2012-05-18   38.232   29.270  530.380   213.850\n",
      "2012-05-21   34.030   29.750  561.280   218.110\n",
      "2012-05-22   31.000   29.760  556.970   215.330\n",
      "2012-05-23   32.000   29.110  570.560   217.280\n",
      "2012-05-24   33.030   29.070  565.320   215.240\n",
      "2012-05-25   31.910   29.060  562.290   212.890\n",
      "2012-05-29   28.840   29.560  572.270   214.750\n",
      "2012-05-30   28.190   29.340  579.170   209.230\n",
      "2012-05-31   29.600   29.190  577.730   212.910\n",
      "2012-06-01   27.720   28.450  560.990   208.220\n",
      "2012-06-04   26.900   28.550  564.290   214.570\n",
      "2012-06-05   25.869   28.505  562.830   213.210\n",
      "2012-06-06   26.810   29.350  571.460   217.640\n",
      "2012-06-07   26.310   29.230  571.720   218.800\n",
      "2012-06-08   27.100   29.650  580.320   218.480\n",
      "2012-06-11   27.005   28.895  571.170   216.500\n",
      "2012-06-12   27.400   29.290  576.160   216.420\n",
      "2012-06-13   27.270   29.130  572.160   214.730\n",
      "2012-06-14   28.290   29.340  571.530   214.450\n",
      "2012-06-15   30.014   30.020  574.130   218.350\n",
      "2012-06-18   31.410   29.840  585.780   222.660\n",
      "2012-06-19   31.911   30.700  587.410   224.030\n",
      "2012-06-20   31.600   30.930  585.741   223.020\n",
      "2012-06-21   31.840   30.135  577.670   220.575\n",
      "2012-06-22   33.050   30.700  582.100   222.160\n",
      "2012-06-25   32.060   29.865  570.765   220.070\n",
      "2012-06-26   33.100   30.020  572.025   225.610\n",
      "2012-06-27   32.230   30.170  574.500   225.620\n",
      "2012-06-28   31.360   29.910  569.050   221.310\n",
      "2012-06-29   31.095   30.590  584.000   228.350\n",
      "...             ...      ...      ...       ...\n",
      "2019-08-14  179.710  133.980  202.750  1762.960\n",
      "2019-08-15  182.590  133.680  201.740  1776.120\n",
      "2019-08-16  183.700  136.130  206.500  1792.570\n",
      "2019-08-19  186.170  138.410  210.350  1816.120\n",
      "2019-08-20  183.810  137.260  210.360  1801.380\n",
      "2019-08-21  183.550  138.790  212.640  1823.540\n",
      "2019-08-22  182.040  137.780  212.460  1804.660\n",
      "2019-08-23  177.750  133.390  202.640  1749.620\n",
      "2019-08-26  180.360  135.450  206.490  1768.870\n",
      "2019-08-27  181.300  135.740  204.160  1761.830\n",
      "2019-08-28  181.760  135.560  205.530  1764.250\n",
      "2019-08-29  185.570  138.120  209.010  1786.400\n",
      "2019-08-30  185.670  137.860  208.740  1776.290\n",
      "2019-09-03  182.390  136.040  205.700  1789.840\n",
      "2019-09-04  187.140  137.630  209.190  1800.620\n",
      "2019-09-05  190.900  140.050  213.280  1840.720\n",
      "2019-09-06  187.490  139.100  213.260  1833.510\n",
      "2019-09-09  188.760  137.520  214.170  1831.350\n",
      "2019-09-10  186.170  136.080  216.700  1820.550\n",
      "2019-09-11  188.490  136.120  223.590  1822.990\n",
      "2019-09-12  187.470  137.520  223.090  1843.550\n",
      "2019-09-13  187.190  137.320  218.750  1839.340\n",
      "2019-09-16  186.220  136.330  219.900  1807.840\n",
      "2019-09-17  188.080  137.390  220.700  1822.550\n",
      "2019-09-18  188.140  138.520  222.770  1817.460\n",
      "2019-09-19  190.140  141.070  220.960  1821.500\n",
      "2019-09-20  189.930  139.440  217.730  1794.160\n",
      "2019-09-23  186.820  139.140  218.720  1785.300\n",
      "2019-09-24  181.280  137.380  217.680  1741.610\n",
      "2019-09-25  182.800  139.360  221.030  1768.330\n",
      "\n",
      "[1850 rows x 4 columns]\n"
     ]
    }
   ],
   "source": [
    "df['fb'] = fb_clean\n",
    "df['msft'] = msft_clean\n",
    "df['aapl'] = aapl_clean\n",
    "df['amzn'] = amzn_clean\n",
    "print(df)"
   ]
  },
  {
   "cell_type": "markdown",
   "metadata": {},
   "source": [
    "Take only the earlist half of observations:"
   ]
  },
  {
   "cell_type": "code",
   "execution_count": 10,
   "metadata": {},
   "outputs": [],
   "source": [
    "df = df[0:924]"
   ]
  },
  {
   "cell_type": "markdown",
   "metadata": {},
   "source": [
    "Calculate expected returns:"
   ]
  },
  {
   "cell_type": "code",
   "execution_count": 12,
   "metadata": {},
   "outputs": [],
   "source": [
    "mu = expected_returns.mean_historical_return(df)"
   ]
  },
  {
   "cell_type": "markdown",
   "metadata": {},
   "source": [
    "Calculate sample covariance matrix:"
   ]
  },
  {
   "cell_type": "code",
   "execution_count": 13,
   "metadata": {},
   "outputs": [],
   "source": [
    "S = risk_models.sample_cov(df)"
   ]
  },
  {
   "cell_type": "markdown",
   "metadata": {},
   "source": [
    "Optimize the weights to maximzie the Sharpe Ratio:"
   ]
  },
  {
   "cell_type": "code",
   "execution_count": 17,
   "metadata": {},
   "outputs": [
    {
     "name": "stdout",
     "output_type": "stream",
     "text": [
      "Expected annual return: 28.3%\n",
      "Annual volatility: 23.5%\n",
      "Sharpe Ratio: 1.12\n"
     ]
    },
    {
     "data": {
      "text/plain": [
       "(0.28315300039734614, 0.2353086186227769, 1.1183313298830186)"
      ]
     },
     "execution_count": 17,
     "metadata": {},
     "output_type": "execute_result"
    }
   ],
   "source": [
    "ef = EfficientFrontier(mu, S)\n",
    "weights = ef.max_sharpe()\n",
    "ef.portfolio_performance(verbose=True)"
   ]
  },
  {
   "cell_type": "code",
   "execution_count": 18,
   "metadata": {},
   "outputs": [
    {
     "name": "stdout",
     "output_type": "stream",
     "text": [
      "{'fb': 0.23331629887166944, 'msft': 0.2728212151853775, 'aapl': 9.226560487851643e-17, 'amzn': 0.49386248594295307}\n"
     ]
    }
   ],
   "source": [
    "print(weights)"
   ]
  },
  {
   "cell_type": "markdown",
   "metadata": {},
   "source": [
    "Using optimized weights, compute portfolio accolation:"
   ]
  },
  {
   "cell_type": "code",
   "execution_count": 19,
   "metadata": {},
   "outputs": [
    {
     "name": "stdout",
     "output_type": "stream",
     "text": [
      "1 out of 4 tickers were removed\n",
      "{'amzn': 859, 'msft': 5404, 'fb': 2477}\n"
     ]
    }
   ],
   "source": [
    "latest_prices = get_latest_prices(df)\n",
    "da = DiscreteAllocation(weights, latest_prices, total_portfolio_value=1000000)\n",
    "allocation, leftover = da.greedy_portfolio()\n",
    "print(allocation)"
   ]
  },
  {
   "cell_type": "markdown",
   "metadata": {},
   "source": [
    "To update portfolio, call the API again for latest data and run optimization model again:"
   ]
  },
  {
   "cell_type": "code",
   "execution_count": 20,
   "metadata": {},
   "outputs": [],
   "source": [
    "fb_data, fb_meta_data = ts.get_daily(symbol='FB', outputsize='full')\n",
    "msft_data, msft_meta_data = ts.get_daily(symbol='MSFT', outputsize='full')\n",
    "aapl_data, aapl_meta_data = ts.get_daily(symbol='AAPL', outputsize='full')\n",
    "amzn_data, amzn_meta_data = ts.get_daily(symbol='AMZN', outputsize='full')"
   ]
  },
  {
   "cell_type": "code",
   "execution_count": 21,
   "metadata": {},
   "outputs": [],
   "source": [
    "df = pd.DataFrame(columns=['fb', 'msft', 'aapl', 'amzn'])"
   ]
  },
  {
   "cell_type": "code",
   "execution_count": 23,
   "metadata": {},
   "outputs": [],
   "source": [
    "fb_clean = fb_data['4. close']\n",
    "msft_clean = msft_data['4. close']\n",
    "aapl_clean = aapl_data['4. close']\n",
    "amzn_clean = amzn_data['4. close']"
   ]
  },
  {
   "cell_type": "code",
   "execution_count": 24,
   "metadata": {},
   "outputs": [
    {
     "name": "stdout",
     "output_type": "stream",
     "text": [
      "                 fb     msft     aapl      amzn\n",
      "date                                           \n",
      "2012-05-18   38.232   29.270  530.380   213.850\n",
      "2012-05-21   34.030   29.750  561.280   218.110\n",
      "2012-05-22   31.000   29.760  556.970   215.330\n",
      "2012-05-23   32.000   29.110  570.560   217.280\n",
      "2012-05-24   33.030   29.070  565.320   215.240\n",
      "2012-05-25   31.910   29.060  562.290   212.890\n",
      "2012-05-29   28.840   29.560  572.270   214.750\n",
      "2012-05-30   28.190   29.340  579.170   209.230\n",
      "2012-05-31   29.600   29.190  577.730   212.910\n",
      "2012-06-01   27.720   28.450  560.990   208.220\n",
      "2012-06-04   26.900   28.550  564.290   214.570\n",
      "2012-06-05   25.869   28.505  562.830   213.210\n",
      "2012-06-06   26.810   29.350  571.460   217.640\n",
      "2012-06-07   26.310   29.230  571.720   218.800\n",
      "2012-06-08   27.100   29.650  580.320   218.480\n",
      "2012-06-11   27.005   28.895  571.170   216.500\n",
      "2012-06-12   27.400   29.290  576.160   216.420\n",
      "2012-06-13   27.270   29.130  572.160   214.730\n",
      "2012-06-14   28.290   29.340  571.530   214.450\n",
      "2012-06-15   30.014   30.020  574.130   218.350\n",
      "2012-06-18   31.410   29.840  585.780   222.660\n",
      "2012-06-19   31.911   30.700  587.410   224.030\n",
      "2012-06-20   31.600   30.930  585.741   223.020\n",
      "2012-06-21   31.840   30.135  577.670   220.575\n",
      "2012-06-22   33.050   30.700  582.100   222.160\n",
      "2012-06-25   32.060   29.865  570.765   220.070\n",
      "2012-06-26   33.100   30.020  572.025   225.610\n",
      "2012-06-27   32.230   30.170  574.500   225.620\n",
      "2012-06-28   31.360   29.910  569.050   221.310\n",
      "2012-06-29   31.095   30.590  584.000   228.350\n",
      "...             ...      ...      ...       ...\n",
      "2019-08-14  179.710  133.980  202.750  1762.960\n",
      "2019-08-15  182.590  133.680  201.740  1776.120\n",
      "2019-08-16  183.700  136.130  206.500  1792.570\n",
      "2019-08-19  186.170  138.410  210.350  1816.120\n",
      "2019-08-20  183.810  137.260  210.360  1801.380\n",
      "2019-08-21  183.550  138.790  212.640  1823.540\n",
      "2019-08-22  182.040  137.780  212.460  1804.660\n",
      "2019-08-23  177.750  133.390  202.640  1749.620\n",
      "2019-08-26  180.360  135.450  206.490  1768.870\n",
      "2019-08-27  181.300  135.740  204.160  1761.830\n",
      "2019-08-28  181.760  135.560  205.530  1764.250\n",
      "2019-08-29  185.570  138.120  209.010  1786.400\n",
      "2019-08-30  185.670  137.860  208.740  1776.290\n",
      "2019-09-03  182.390  136.040  205.700  1789.840\n",
      "2019-09-04  187.140  137.630  209.190  1800.620\n",
      "2019-09-05  190.900  140.050  213.280  1840.720\n",
      "2019-09-06  187.490  139.100  213.260  1833.510\n",
      "2019-09-09  188.760  137.520  214.170  1831.350\n",
      "2019-09-10  186.170  136.080  216.700  1820.550\n",
      "2019-09-11  188.490  136.120  223.590  1822.990\n",
      "2019-09-12  187.470  137.520  223.090  1843.550\n",
      "2019-09-13  187.190  137.320  218.750  1839.340\n",
      "2019-09-16  186.220  136.330  219.900  1807.840\n",
      "2019-09-17  188.080  137.390  220.700  1822.550\n",
      "2019-09-18  188.140  138.520  222.770  1817.460\n",
      "2019-09-19  190.140  141.070  220.960  1821.500\n",
      "2019-09-20  189.930  139.440  217.730  1794.160\n",
      "2019-09-23  186.820  139.140  218.720  1785.300\n",
      "2019-09-24  181.280  137.380  217.680  1741.610\n",
      "2019-09-25  182.800  139.360  221.030  1768.330\n",
      "\n",
      "[1850 rows x 4 columns]\n"
     ]
    }
   ],
   "source": [
    "df['fb'] = fb_clean\n",
    "df['msft'] = msft_clean\n",
    "df['aapl'] = aapl_clean\n",
    "df['amzn'] = amzn_clean\n",
    "print(df)"
   ]
  },
  {
   "cell_type": "code",
   "execution_count": 27,
   "metadata": {},
   "outputs": [
    {
     "name": "stdout",
     "output_type": "stream",
     "text": [
      "Expected annual return: 28.5%\n",
      "Annual volatility: 22.3%\n",
      "Sharpe Ratio: 1.19\n",
      "{'fb': 0.14110788084764556, 'msft': 0.42339738777063635, 'aapl': 0.0, 'amzn': 0.43549473138171824}\n"
     ]
    }
   ],
   "source": [
    "mu = expected_returns.mean_historical_return(df)\n",
    "S = risk_models.sample_cov(df)\n",
    "ef = EfficientFrontier(mu, S)\n",
    "weights = ef.max_sharpe()\n",
    "ef.portfolio_performance(verbose=True)\n",
    "print(weights)"
   ]
  },
  {
   "cell_type": "code",
   "execution_count": 28,
   "metadata": {},
   "outputs": [
    {
     "name": "stdout",
     "output_type": "stream",
     "text": [
      "1 out of 4 tickers were removed\n",
      "{'amzn': 246, 'msft': 3038, 'fb': 772}\n"
     ]
    }
   ],
   "source": [
    "latest_prices = get_latest_prices(df)\n",
    "da = DiscreteAllocation(weights, latest_prices, total_portfolio_value=1000000)\n",
    "allocation, leftover = da.greedy_portfolio()\n",
    "print(allocation)"
   ]
  },
  {
   "cell_type": "code",
   "execution_count": null,
   "metadata": {},
   "outputs": [],
   "source": []
  }
 ],
 "metadata": {
  "kernelspec": {
   "display_name": "Python 3",
   "language": "python",
   "name": "python3"
  },
  "language_info": {
   "codemirror_mode": {
    "name": "ipython",
    "version": 3
   },
   "file_extension": ".py",
   "mimetype": "text/x-python",
   "name": "python",
   "nbconvert_exporter": "python",
   "pygments_lexer": "ipython3",
   "version": "3.7.3"
  }
 },
 "nbformat": 4,
 "nbformat_minor": 2
}
